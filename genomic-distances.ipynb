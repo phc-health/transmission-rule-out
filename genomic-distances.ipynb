{
 "cells": [
  {
   "cell_type": "markdown",
   "metadata": {},
   "source": [
    "# Current SARS-CoV-2 Viral Diversity Supports Transmission Rule-Out by Genomic Sequencing\n",
    "\n"
   ]
  },
  {
   "cell_type": "markdown",
   "metadata": {},
   "source": [
    "When community transmission levels are high, there will be many coincidences in which individuals in the same workplace, classroom, nursing home, or other institution test positive for SARS-CoV-2 purely by chance. Genomic sequencing can separate such coincidences from true transmission clusters.\n",
    "\n",
    "Demonstrating that an epidemiologically-linked cluster does not have genomic links provides reassurance to stakeholders that infection control practices are working. If an epidemiologically-linked cluster does have genomic links, transmission in the identified setting is more likely and decision-makers can focus on revising infection control practices or policies to prevent future transmission."
   ]
  },
  {
   "cell_type": "markdown",
   "metadata": {},
   "source": [
    "This is possible because the SARS-CoV-2 virus mutates, on average, once every 2 weeks. (See [nextstrain](https://nextstrain.org/ncov/gisaid/global?l=clock) for an up-to-date estimate. As of 10-01-21, the rate estimate was 23.87 substitutions per year, or one every 2.18 weeks.) If two people are part of the same transmission event (A infected B, or some C infected both A and B), then the genome sequences of the virus from each case involved will differ by at most 1 or 2 mutations."
   ]
  },
  {
   "cell_type": "markdown",
   "metadata": {},
   "source": [
    "![Nextstrain Clock Rate](img/nextstrain_clock.png)"
   ]
  },
  {
   "cell_type": "markdown",
   "metadata": {},
   "source": [
    "\n",
    "The converse is not necessarily true: it is possible for the genomes of virus to match even when the cases are epidemiologically quite distant, especially when superspreader events are involved. (Early in the pandemic we [documented](https://twitter.com/thebasepoint/status/1278057767983448064) instances where a viral genomic sequence was observed identically across dozens of countries, and persisted for months.)\n",
    "\n",
    "Inspired by a potential program doing sequencing in schools, we asked: at this point in the pandemic, how sensitive is genomic sequencing for ruling out transmission? If two cases are unrelated, if the epi link is a coincidence, will genomic sequencing tell you that?\n",
    "\n",
    "The more diverse the circulating population of SARS-CoV-2, the more powerful sequencing will be."
   ]
  },
  {
   "cell_type": "markdown",
   "metadata": {},
   "source": [
    "### Analysis"
   ]
  },
  {
   "cell_type": "markdown",
   "metadata": {},
   "source": [
    "To answer this question, we picked an American city with a very high level of genomic sequencing being done: San Diego, California. The [SEARCH Alliance](https://searchcovid.info/) has been sequencing SARS-CoV-2 for almost a year and a half, and over the summer, they regularly sequenced 10-20% of the reported daily cases. We chose to analyze samples from August 2021, because it is after the Delta sweep, and so represents the current pandemic phase, and has a large number of genomes already sequenced and deposited into GISAID."
   ]
  },
  {
   "cell_type": "markdown",
   "metadata": {},
   "source": [
    "We downloaded the 2429 high-quality genomes from August 2021 from GISAID, and computed their pairwise SNP distances using `snp-dists` on a `mafft` alignment."
   ]
  },
  {
   "cell_type": "markdown",
   "metadata": {},
   "source": [
    "![SEARCH Alliance](img/GISAID_download.png)"
   ]
  },
  {
   "cell_type": "markdown",
   "metadata": {},
   "source": [
    "We define a *potential coincidental epi link* to be a pair of samples from the time period, with collection dates less than 2 weeks apart. We say that potential epi link would be ruled out if the genomes are more than 2 SNPs away from each other.\n",
    "\n",
    "**We find that 99.5% of potential spurious epi links would be ruled out by sequencing!**\n",
    "\n",
    "One way to think about this: a given person A was infected by one person B. Just 0.5% of the cases in the area have genotypes close enough to that of A to plausibly be the infector B, so the chances that a coincidentally epi-linked case is also a genetic link is very low.\n",
    "\n",
    "Analysis below:"
   ]
  },
  {
   "cell_type": "code",
   "execution_count": 1,
   "metadata": {},
   "outputs": [],
   "source": [
    "# Inputs\n",
    "fasta_file = 'data/1633204764832.sequences.fasta'\n",
    "meta_file = 'data/1633204764832.metadata.tsv'\n",
    "reference_file = 'data/ref.fasta'"
   ]
  },
  {
   "cell_type": "code",
   "execution_count": 35,
   "metadata": {},
   "outputs": [],
   "source": [
    "# Intermediates\n",
    "working_dir = 'scratch/'\n",
    "aligned_file = working_dir + 'aligned.aln'\n",
    "aligned_masked_file = working_dir + 'aligned_masked.aln'\n",
    "dists_file = working_dir + 'snp-dists.tsv'\n",
    "dists_masked_file = working_dir + 'snp-dists_masked.tsv'"
   ]
  },
  {
   "cell_type": "markdown",
   "metadata": {},
   "source": [
    "Align whole genomes to reference."
   ]
  },
  {
   "cell_type": "code",
   "execution_count": 3,
   "metadata": {
    "scrolled": true
   },
   "outputs": [
    {
     "name": "stdout",
     "output_type": "stream",
     "text": [
      "nadd = 3830\n",
      "ppenalty_ex = -10\n",
      "nthread = 10\n",
      "blosum 62 / kimura 200\n",
      "sueff_global = 0.100000\n",
      "norg = 1\n",
      "njobc = 2\n",
      "generating a scoring matrix for nucleotide (dist=200) ... done\n",
      "\n",
      "\n",
      "Making a distance matrix ..\n",
      "\n",
      "There are 338311 ambiguous characters\n",
      "    1 / 1 (thread    0)\n",
      "done.\n",
      "\n",
      "fTEP 499 / 3830 (thread 4)                    \n",
      "STEP 500 / 3830 (thread 5)                    \n",
      "ffffffffffffffffffffffffffffffffffffffffffffffffffffffffffffffffffffffffffffffffffffffffffffffffffff\n",
      "STEP 600 / 3830 (thread 1)                    \n",
      "ffffffffffffffffffffffffffffffffffffffffffffffffffffffffffffffffffffffffffffffffffffffffffffffffffff\n",
      "STEP 700 / 3830 (thread 8)                    \n",
      "ffffffffffffffffffffffffffffffffffffffffffffffffffffffffffffffffffffffffffffffffffffffffffffffffffff\n",
      "STEP 800 / 3830 (thread 0)                    \n",
      "ffffffffffffffffffffffffffffffffffffffffffffffffffffffffffffffffffffffffffffffffffffffffffffffffffff\n",
      "STEP 900 / 3830 (thread 9)                    \n",
      "ffffffffffffffffffffffffffffffffffffffffffffffffffffffffffffffffffffffffffffffffffffffffffffffffffff\n",
      "STEP 1000 / 3830 (thread 3)                    \n",
      "ffffffffffffffffffffffffffffffffffffffffffffffffffffffffffffffffffffffffffffffffffffffffffffffffffff\n",
      "STEP 1100 / 3830 (thread 2)                    \n",
      "ffffffffffffffffffffffffffffffffffffffffffffffffffffffffffffffffffffffffffffffffffffffffffffffffffff\n",
      "STEP 1200 / 3830 (thread 0)                    \n",
      "ffffffffffffffffffffffffffffffffffffffffffffffffffffffffffffffffffffffffffffffffffffffffffffffffffff\n",
      "STEP 1300 / 3830 (thread 4)                    \n",
      "ffffffffffffffffffffffffffffffffffffffffffffffffffffffffffffffffffffffffffffffffffffffffffffffffffff\n",
      "STEP 1400 / 3830 (thread 7)                    \n",
      "ffffffffffffffffffffffffffffffffffffffffffffffffffffffffffffffffffffffffffffffffffffffffffffffffffff\n",
      "STEP 1500 / 3830 (thread 9)                    \n",
      "ffffffffffffffffffffffffffffffffffffffffffffffffffffffffffffffffffffffffffffffffffffffffffffffffffff\n",
      "STEP 1600 / 3830 (thread 1)                    \n",
      "ffffffffffffffffffffffffffffffffffffffffffffffffffffffffffffffffffffffffffffffffffffffffffffffffffff\n",
      "STEP 1700 / 3830 (thread 3)                    \n",
      "ffffffffffffffffffffffffffffffffffffffffffffffffffffffffffffffffffffffffffffffffffffffffffffffffffff\n",
      "STEP 1800 / 3830 (thread 2)                    \n",
      "ffffffffffffffffffffffffffffffffffffffffffffffffffffffffffffffffffffffffffffffffffffffffffffffffffff\n",
      "STEP 1900 / 3830 (thread 2)                    \n",
      "ffffffffffffffffffffffffffffffffffffffffffffffffffffffffffffffffffffffffffffffffffffffffffffffffffff\n",
      "STEP 2000 / 3830 (thread 2)                    \n",
      "ffffffffffffffffffffffffffffffffffffffffffffffffffffffffffffffffffffffffffffffffffffffffffffffffffff\n",
      "STEP 2100 / 3830 (thread 1)                    \n",
      "ffffffffffffffffffffffffffffffffffffffffffffffffffffffffffffffffffffffffffffffffffffffffffffffffffff\n",
      "STEP 2200 / 3830 (thread 5)                    \n",
      "ffffffffffffffffffffffffffffffffffffffffffffffffffffffffffffffffffffffffffffffffffffffffffffffffffff\n",
      "STEP 2300 / 3830 (thread 1)                    \n",
      "ffffffffffffffffffffffffffffffffffffffffffffffffffffffffffffffffffffffffffffffffffffffffffffffffffff\n",
      "STEP 2400 / 3830 (thread 6)                    \n",
      "ffffffffffffffffffffffffffffffffffffffffffffffffffffffffffffffffffffffffffffffffffffffffffffffffffff\n",
      "STEP 2500 / 3830 (thread 6)                    \n",
      "ffffffffffffffffffffffffffffffffffffffffffffffffffffffffffffffffffffffffffffffffffffffffffffffffffff\n",
      "STEP 2600 / 3830 (thread 0)                    \n",
      "ffffffffffffffffffffffffffffffffffffffffffffffffffffffffffffffffffffffffffffffffffffffffffffffffffff\n",
      "STEP 2700 / 3830 (thread 7)                    \n",
      "ffffffffffffffffffffffffffffffffffffffffffffffffffffffffffffffffffffffffffffffffffffffffffffffffffff\n",
      "STEP 2800 / 3830 (thread 6)                    \n",
      "ffffffffffffffffffffffffffffffffffffffffffffffffffffffffffffffffffffffffffffffffffffffffffffffffffff\n",
      "STEP 2900 / 3830 (thread 4)                    \n",
      "ffffffffffffffffffffffffffffffffffffffffffffffffffffffffffffffffffffffffffffffffffffffffffffffffffff\n",
      "STEP 3000 / 3830 (thread 2)                    \n",
      "ffffffffffffffffffffffffffffffffffffffffffffffffffffffffffffffffffffffffffffffffffffffffffffffffffff\n",
      "STEP 3100 / 3830 (thread 5)                    \n",
      "ffffffffffffffffffffffffffffffffffffffffffffffffffffffffffffffffffffffffffffffffffffffffffffffffffff\n",
      "STEP 3200 / 3830 (thread 4)                    \n",
      "ffffffffffffffffffffffffffffffffffffffffffffffffffffffffffffffffffffffffffffffffffffffffffffffffffff\n",
      "STEP 3300 / 3830 (thread 5)                    \n",
      "ffffffffffffffffffffffffffffffffffffffffffffffffffffffffffffffffffffffffffffffffffffffffffffffffffff\n",
      "STEP 3400 / 3830 (thread 1)                    \n",
      "ffffffffffffffffffffffffffffffffffffffffffffffffffffffffffffffffffffffffffffffffffffffffffffffffffff\n",
      "STEP 3500 / 3830 (thread 0)                    \n",
      "ffffffffffffffffffffffffffffffffffffffffffffffffffffffffffffffffffffffffffffffffffffffffffffffffffff\n",
      "STEP 3600 / 3830 (thread 8)                    \n",
      "ffffffffffffffffffffffffffffffffffffffffffffffffffffffffffffffffffffffffffffffffffffffffffffffffffff\n",
      "STEP 3700 / 3830 (thread 6)                    \n",
      "ffffffffffffffffffffffffffffffffffffffffffffffffffffffffffffffffffffffffffffffffffffffffffffffffffff\n",
      "STEP 3800 / 3830 (thread 2)                    \n",
      "ffffffffffffffffffffffffffffff\n",
      "\n",
      "Combining ..\n",
      "   done.                      \n",
      "\n",
      "   done.                      \n",
      "\n",
      "addsingle (nuc) Version 7.464\n",
      "alg=A, model=DNA200 (2), 1.53 (4.59), -0.00 (-0.00), noshift, amax=0.0\n",
      "10 thread(s)\n",
      "\n",
      "\n",
      "To keep the alignment length, 2094 letters were DELETED.\n",
      "To know the positions of deleted letters, rerun the same command with the --mapout option.\n",
      "\n",
      "Strategy:\n",
      " FFT-NS-fragment (Not tested.)\n",
      " ?\n",
      "\n",
      "If unsure which option to use, try 'mafft --auto input > output'.\n",
      "For more information, see 'mafft --help', 'mafft --man' and the mafft page.\n",
      "\n",
      "The default gap scoring scheme has been changed in version 7.110 (2013 Oct).\n",
      "It tends to insert more gaps into gap-rich regions than previous versions.\n",
      "To disable this change, add the --leavegappyregion option.\n",
      "\n"
     ]
    }
   ],
   "source": [
    "# Flags just align to reference\n",
    "!mafft  \\\n",
    "    --6merpair --thread 10 --keeplength --addfragments  \\\n",
    "    {fasta_file} {reference_file} > {aligned_file}"
   ]
  },
  {
   "cell_type": "markdown",
   "metadata": {},
   "source": [
    "Mask sites"
   ]
  },
  {
   "cell_type": "code",
   "execution_count": 25,
   "metadata": {},
   "outputs": [],
   "source": [
    "import pandas as pd\n",
    "from Bio import AlignIO\n",
    "import copy\n",
    "\n",
    "algn = AlignIO.read(aligned_file, \"fasta\")"
   ]
  },
  {
   "cell_type": "code",
   "execution_count": 33,
   "metadata": {},
   "outputs": [
    {
     "data": {
      "text/plain": [
       "1"
      ]
     },
     "execution_count": 33,
     "metadata": {},
     "output_type": "execute_result"
    }
   ],
   "source": [
    "masked_algn = copy.deepcopy(algn) # Create copy to test differences\n",
    "masked_vcf_url = \"https://raw.githubusercontent.com/W-L/ProblematicSites_SARS-CoV2/master/problematic_sites_sarsCov2.vcf\"\n",
    "masked_vcf = pd.read_csv(masked_vcf_url, sep=\"\\t\", comment=\"#\", names=[\"region\", \"pos\", \"ref\", \"alt\", \"x\", \"y\", \"mask\", \"comment\"])\n",
    "masked_sites = masked_vcf[masked_vcf[\"mask\"] == \"mask\"][\"pos\"].tolist()\n",
    "\n",
    "for i in masked_sites:\n",
    "    pos = i-1\n",
    "    for rec in masked_algn:\n",
    "        rec.seq = rec.seq[:pos] + \"N\" + rec.seq[pos+1:]\n",
    "\n",
    "AlignIO.write(masked_algn, aligned_masked_file, \"fasta\")"
   ]
  },
  {
   "cell_type": "markdown",
   "metadata": {},
   "source": [
    "Compute SNP distances between samples."
   ]
  },
  {
   "cell_type": "code",
   "execution_count": 40,
   "metadata": {},
   "outputs": [
    {
     "name": "stdout",
     "output_type": "stream",
     "text": [
      "This is snp-dists 0.8.2\n",
      "Will use 20 threads.\n",
      "Read 3831 sequences of length 29903\n"
     ]
    }
   ],
   "source": [
    "!/home/gk/code/snp-dists/snp-dists -j 20 \\\n",
    "-m {aligned_file} > {dists_file}"
   ]
  },
  {
   "cell_type": "code",
   "execution_count": 41,
   "metadata": {
    "scrolled": true
   },
   "outputs": [
    {
     "name": "stdout",
     "output_type": "stream",
     "text": [
      "This is snp-dists 0.8.2\n",
      "Will use 20 threads.\n",
      "Read 3831 sequences of length 29903\n"
     ]
    }
   ],
   "source": [
    "!/home/gk/code/snp-dists/snp-dists -j 20 \\\n",
    "-m {aligned_masked_file} > {dists_masked_file}"
   ]
  },
  {
   "cell_type": "code",
   "execution_count": 17,
   "metadata": {},
   "outputs": [],
   "source": [
    "import datetime\n",
    "import pandas as pd\n",
    "import numpy as np\n",
    "from matplotlib import pyplot as plt\n",
    "import tqdm\n",
    "import seaborn as sns\n",
    "%matplotlib inline"
   ]
  },
  {
   "cell_type": "code",
   "execution_count": 4,
   "metadata": {},
   "outputs": [],
   "source": [
    "# Load metadata\n",
    "meta = pd.read_csv(meta_file, sep='\\t')\n",
    "date_lookup = dict()\n",
    "for sample, date in zip(meta['strain'], meta['date']):\n",
    "    if pd.isna(date):\n",
    "        print(f\"Warning: {sample} is missing collection date.\")\n",
    "        date_lookup[sample] = np.nan\n",
    "    else:\n",
    "        date_lookup[sample] = datetime.datetime.strptime(date, '%Y-%m-%d').toordinal()"
   ]
  },
  {
   "cell_type": "code",
   "execution_count": 18,
   "metadata": {},
   "outputs": [],
   "source": [
    "# Close = SNP dist <= 2, Far = SNP dist > 2, for samples collected \n",
    "# within 2 weeks of each other\n",
    "def compute_pairs(dist_matrix_file):\n",
    "    close_pairs = 0\n",
    "    far_pairs = 0\n",
    "    distances = []\n",
    "    with open(dist_matrix_file, 'r') as infile:\n",
    "        for line in tqdm.tqdm(infile):\n",
    "            (sample1, sample2, distance) = line.split()\n",
    "            distance = int(distance)\n",
    "            if sample1 not in date_lookup or sample2 not in date_lookup:\n",
    "                continue\n",
    "            if abs(date_lookup[sample1] - date_lookup[sample2]) > 14:\n",
    "                continue\n",
    "            if sample1 == sample2:\n",
    "                continue\n",
    "            if distance <= 2:\n",
    "                close_pairs += 1\n",
    "            if distance > 2:\n",
    "                far_pairs += 1\n",
    "            distances.append(distance)\n",
    "        return close_pairs, far_pairs, distances"
   ]
  },
  {
   "cell_type": "code",
   "execution_count": 55,
   "metadata": {},
   "outputs": [
    {
     "name": "stderr",
     "output_type": "stream",
     "text": [
      "14676561it [00:19, 756204.39it/s]\n"
     ]
    },
    {
     "data": {
      "text/plain": [
       "99.5"
      ]
     },
     "execution_count": 55,
     "metadata": {},
     "output_type": "execute_result"
    }
   ],
   "source": [
    "close_pairs, far_pairs, distances = compute_pairs(dists_file)\n",
    "close_pairs, far_pairs\n",
    "np.round(100*far_pairs/(close_pairs + far_pairs), 1)"
   ]
  },
  {
   "cell_type": "code",
   "execution_count": 56,
   "metadata": {},
   "outputs": [
    {
     "name": "stderr",
     "output_type": "stream",
     "text": [
      "14676561it [00:19, 761674.08it/s]\n"
     ]
    },
    {
     "data": {
      "text/plain": [
       "99.5"
      ]
     },
     "execution_count": 56,
     "metadata": {},
     "output_type": "execute_result"
    }
   ],
   "source": [
    "masked_close_pairs, masked_far_pairs, masked_distances = compute_pairs(dists_masked_file)\n",
    "masked_close_pairs, masked_far_pairs\n",
    "np.round(100*masked_far_pairs/(masked_close_pairs + masked_far_pairs), 1)"
   ]
  },
  {
   "cell_type": "code",
   "execution_count": 22,
   "metadata": {},
   "outputs": [
    {
     "data": {
      "text/plain": [
       "(56012, 11129644)"
      ]
     },
     "execution_count": 22,
     "metadata": {},
     "output_type": "execute_result"
    }
   ],
   "source": [
    "masked_close_pairs, masked_far_pairs"
   ]
  },
  {
   "cell_type": "code",
   "execution_count": 23,
   "metadata": {},
   "outputs": [
    {
     "data": {
      "text/plain": [
       "(52722, 11132934)"
      ]
     },
     "execution_count": 23,
     "metadata": {},
     "output_type": "execute_result"
    }
   ],
   "source": [
    "close_pairs, far_pairs"
   ]
  },
  {
   "cell_type": "markdown",
   "metadata": {},
   "source": [
    "## Measuring Diversity Within and Between Lineages"
   ]
  },
  {
   "cell_type": "markdown",
   "metadata": {},
   "source": [
    "A more detailed histogram of all pairwise SNP distances between samples collected within 2 weeks of one another shows a tri-modal plot.\n",
    "\n",
    "Only pairs of samples on the far left (to the left of the 2-SNP red line) could have direct transmission links."
   ]
  },
  {
   "cell_type": "code",
   "execution_count": 57,
   "metadata": {},
   "outputs": [
    {
     "data": {
      "image/png": "[encoded data removed]",
      "text/plain": [
       "<Figure size 720x540 with 1 Axes>"
      ]
     },
     "metadata": {
      "needs_background": "light"
     },
     "output_type": "display_data"
    }
   ],
   "source": [
    "plt.subplots(figsize=(10,7.5))\n",
    "plt.hist(distances, bins = 40)\n",
    "plt.title(\"SNP distances between random pairs of samples\\n(San Diego, August 2021, n=3830)\")\n",
    "plt.xlabel('SNP distance')\n",
    "plt.ylabel('count')\n",
    "plt.axvline(2, color='red')\n",
    "plt.tight_layout()\n",
    "plt.savefig('SNP-dist-san-diego.png')"
   ]
  },
  {
   "cell_type": "code",
   "execution_count": 58,
   "metadata": {},
   "outputs": [
    {
     "data": {
      "image/png": "[encoded data removed]",
      "text/plain": [
       "<Figure size 720x540 with 1 Axes>"
      ]
     },
     "metadata": {
      "needs_background": "light"
     },
     "output_type": "display_data"
    }
   ],
   "source": [
    "plt.subplots(figsize=(10,7.5))\n",
    "plt.hist(masked_distances, bins = 40)\n",
    "plt.title(\"SNP masked distances between random pairs of samples\\n(San Diego, August 2021, n=3830)\")\n",
    "plt.xlabel('SNP distance')\n",
    "plt.ylabel('count')\n",
    "plt.axvline(2, color='red')\n",
    "plt.tight_layout()\n",
    "plt.savefig('SNP-dist-masked-san-diego.png')"
   ]
  },
  {
   "cell_type": "markdown",
   "metadata": {},
   "source": [
    "We then investigated the source of the three peaks for pairwise SNP distances: around 15, 35, and 70.\n",
    "\n",
    "Presumably, these are generated by the typical distances within or between certain lineages. For example, the founding genotypes of  B.1.617.2 and P.1 (Delta and Gamma) are some distance apart on the tree, and the distance from any Delta to any Gamma should be approximately the same. (With a mutation rate of ~1 mut/2 weeks, the distance should be approximately the number of weeks since Delta and Gamma diverged.)"
   ]
  },
  {
   "cell_type": "code",
   "execution_count": 26,
   "metadata": {
    "scrolled": true
   },
   "outputs": [
    {
     "data": {
      "text/plain": [
       "pangolin_lineage\n",
       "B.1.617.2    2203\n",
       "AY.25         550\n",
       "AY.26         371\n",
       "AY.20         194\n",
       "AY.3          137\n",
       "AY.14         114\n",
       "AY.13          54\n",
       "AY.2           52\n",
       "AY.4           38\n",
       "P.1            29\n",
       "AY.3.1         11\n",
       "AY.33          10\n",
       "B.1.1.7         8\n",
       "AY.37           8\n",
       "B.1.621         7\n",
       "B.1.628         7\n",
       "AY.35           6\n",
       "AY.1            6\n",
       "P.1.7           5\n",
       "AY.5            5\n",
       "P.1.12          3\n",
       "B.1             2\n",
       "None            1\n",
       "B.1.621.1       1\n",
       "A.2.5           1\n",
       "B.1.429         1\n",
       "B.1.1           1\n",
       "AY.36           1\n",
       "AY.24           1\n",
       "AY.21           1\n",
       "AY.16           1\n",
       "Q.3             1\n",
       "Name: date, dtype: int64"
      ]
     },
     "execution_count": 26,
     "metadata": {},
     "output_type": "execute_result"
    }
   ],
   "source": [
    "meta.groupby('pangolin_lineage')['date'].count().sort_values(ascending=False)"
   ]
  },
  {
   "cell_type": "code",
   "execution_count": 60,
   "metadata": {},
   "outputs": [
    {
     "name": "stderr",
     "output_type": "stream",
     "text": [
      "14676561it [00:42, 343107.08it/s]\n"
     ]
    }
   ],
   "source": [
    "lineages = meta['pangolin_lineage'].unique()\n",
    "n_lineages = len(lineages)\n",
    "\n",
    "lin_to_row = dict(zip(lineages, range(n_lineages)))\n",
    "sample_to_lin = dict(zip(meta['strain'], meta['pangolin_lineage']))\n",
    "\n",
    "counts = np.zeros((n_lineages, n_lineages))\n",
    "distances = np.zeros((n_lineages, n_lineages))\n",
    "with open(dists_file, 'r') as infile:\n",
    "    for line in tqdm.tqdm(infile):\n",
    "        (sample1, sample2, distance) = line.split()\n",
    "        if sample1 == sample2:\n",
    "            continue\n",
    "        distance = int(distance)\n",
    "        if sample1 not in date_lookup or sample2 not in date_lookup:\n",
    "            continue\n",
    "        if abs(date_lookup[sample1] - date_lookup[sample2]) > 14:\n",
    "            continue\n",
    "        lin1 = sample_to_lin[sample1]\n",
    "        lin2 = sample_to_lin[sample2]\n",
    "#         distances.loc[lin1, lin2] += distance\n",
    "#         counts.loc[lin1, lin2] += 1\n",
    "        idx1 = lin_to_row[lin1]\n",
    "        idx2 = lin_to_row[lin2]\n",
    "        distances[idx1, idx2] += distance\n",
    "        counts[idx1, idx2] += 1\n",
    "distances = pd.DataFrame(index = lineages,\n",
    "             columns = lineages,\n",
    "             data = distances)\n",
    "counts = pd.DataFrame(index = lineages,\n",
    "             columns = lineages,\n",
    "             data = counts)\n",
    "mean_distances = distances/counts"
   ]
  },
  {
   "cell_type": "markdown",
   "metadata": {},
   "source": [
    "Remove None (uncalled lineages), and AY.10 (few pairs w/in 2 week window)."
   ]
  },
  {
   "cell_type": "code",
   "execution_count": 61,
   "metadata": {},
   "outputs": [],
   "source": [
    "md = mean_distances.drop(['None'], axis = 0).drop(['None'], axis = 1)"
   ]
  },
  {
   "cell_type": "code",
   "execution_count": 62,
   "metadata": {},
   "outputs": [],
   "source": [
    "within_lineage_dist = (\n",
    "    md\n",
    "    .stack()\n",
    "    .reset_index()\n",
    "    .query('level_0 == level_1')\n",
    "    .sort_values(0)\n",
    ")"
   ]
  },
  {
   "cell_type": "code",
   "execution_count": 63,
   "metadata": {},
   "outputs": [
    {
     "data": {
      "image/png": "[encoded data removed]",
      "text/plain": [
       "<Figure size 720x540 with 1 Axes>"
      ]
     },
     "metadata": {
      "needs_background": "light"
     },
     "output_type": "display_data"
    }
   ],
   "source": [
    "plt.subplots(figsize=(10,7.5))\n",
    "plt.barh(within_lineage_dist[\"level_0\"].tolist(), within_lineage_dist[0].tolist())\n",
    "plt.title(\"Within lineage distance in San Diego from Aug (n=3830)\")\n",
    "plt.tight_layout()\n",
    "plt.savefig(\"within_lineage_dist.png\", dpi = 300)"
   ]
  },
  {
   "cell_type": "code",
   "execution_count": 64,
   "metadata": {},
   "outputs": [
    {
     "data": {
      "text/plain": [
       "<seaborn.matrix.ClusterGrid at 0x7f935779f520>"
      ]
     },
     "execution_count": 64,
     "metadata": {},
     "output_type": "execute_result"
    },
    {
     "data": {
      "image/png": "[encoded data removed]",
      "text/plain": [
       "<Figure size 720x720 with 4 Axes>"
      ]
     },
     "metadata": {
      "needs_background": "light"
     },
     "output_type": "display_data"
    }
   ],
   "source": [
    "sns.clustermap(md.fillna(0), vmin=-5, mask=md.isna())"
   ]
  },
  {
   "cell_type": "markdown",
   "metadata": {},
   "source": [
    "The distance between a typical Delta lineage (say, AY.25) and Gamma (P.1) is 71 SNPs. The lineages diverged in Jan 2020, or 86 weeks before these samples were collected."
   ]
  },
  {
   "cell_type": "code",
   "execution_count": 65,
   "metadata": {},
   "outputs": [
    {
     "data": {
      "text/plain": [
       "71.01082580298828"
      ]
     },
     "execution_count": 65,
     "metadata": {},
     "output_type": "execute_result"
    }
   ],
   "source": [
    "mean_distances.loc['AY.25', 'P.1']"
   ]
  },
  {
   "cell_type": "markdown",
   "metadata": {},
   "source": [
    "In contrast, the average distance between AY.3 and AY.25 samples is 16.6, which have a least common ancestor in April 2021, or 16 weeks before the samples were collected."
   ]
  },
  {
   "cell_type": "code",
   "execution_count": 66,
   "metadata": {},
   "outputs": [
    {
     "data": {
      "text/plain": [
       "16.94396099811281"
      ]
     },
     "execution_count": 66,
     "metadata": {},
     "output_type": "execute_result"
    }
   ],
   "source": [
    "mean_distances.loc['AY.25', 'AY.3']"
   ]
  },
  {
   "cell_type": "markdown",
   "metadata": {},
   "source": [
    "Even within PANGO lineages, there is significant diversity. The average distance within AY.25 is 8, meaning that most pairs could still be ruled out."
   ]
  },
  {
   "cell_type": "code",
   "execution_count": 67,
   "metadata": {},
   "outputs": [
    {
     "data": {
      "text/plain": [
       "9.015280403276623"
      ]
     },
     "execution_count": 67,
     "metadata": {},
     "output_type": "execute_result"
    }
   ],
   "source": [
    "mean_distances.loc['AY.25', 'AY.25']"
   ]
  },
  {
   "cell_type": "markdown",
   "metadata": {},
   "source": [
    "Inside Delta more broadly, those still categorized as `B.1.617.2`, the diversity is even greater."
   ]
  },
  {
   "cell_type": "code",
   "execution_count": 70,
   "metadata": {},
   "outputs": [
    {
     "data": {
      "text/plain": [
       "18.742314467798483"
      ]
     },
     "execution_count": 70,
     "metadata": {},
     "output_type": "execute_result"
    }
   ],
   "source": [
    "mean_distances.loc['B.1.617.2', 'B.1.617.2']"
   ]
  },
  {
   "cell_type": "code",
   "execution_count": 95,
   "metadata": {},
   "outputs": [
    {
     "name": "stderr",
     "output_type": "stream",
     "text": [
      "14676561it [00:37, 387351.94it/s]\n"
     ]
    }
   ],
   "source": [
    "within_lineage_data = []\n",
    "within_lineage_distances = []\n",
    "lineage_distribution = {}\n",
    "with open(dists_file, 'r') as infile:\n",
    "    for line in tqdm.tqdm(infile):\n",
    "        (sample1, sample2, distance) = line.split()\n",
    "        if sample1 == sample2:\n",
    "            continue\n",
    "        distance = int(distance)\n",
    "        if sample1 not in date_lookup or sample2 not in date_lookup:\n",
    "            continue\n",
    "        if abs(date_lookup[sample1] - date_lookup[sample2]) > 14:\n",
    "            continue\n",
    "        lin1 = sample_to_lin[sample1]\n",
    "        lin2 = sample_to_lin[sample2]\n",
    "        row = [sample1, sample2, lin1, lin2, distance]\n",
    "        within_lineage_data.append(row)\n",
    "        if lin1 == lin2:\n",
    "            within_lineage_distances.append(distance)\n",
    "            if lin1 in lineage_distribution:\n",
    "                lineage_distribution[lin1].append(distance)\n",
    "            else:\n",
    "                lineage_distribution[lin1] = [distance]\n",
    "                \n",
    "within_lineage_df = pd.DataFrame(within_lineage_data, columns = [\"sample1\", \"sample2\", \"sample1_lineage\", \"sample2_lineage\", \"snp_distance\"])"
   ]
  },
  {
   "cell_type": "code",
   "execution_count": 71,
   "metadata": {},
   "outputs": [
    {
     "data": {
      "text/plain": [
       "0.9873443214512118"
      ]
     },
     "execution_count": 71,
     "metadata": {},
     "output_type": "execute_result"
    }
   ],
   "source": [
    "(np.array(within_lineage_distances) > 2).sum()/len(within_lineage_distances)"
   ]
  },
  {
   "cell_type": "markdown",
   "metadata": {},
   "source": [
    "Even if we restrict ourselves to pairs of samples within the same PANGO lineage, 98.5% of samples are still more than 2 SNPs away.\n",
    "\n",
    "This means that **for transmission cluster rule-out, it is essential to use actual SNP distances, and not just PANGO lineage assignments**. Relying on lineage assignments alone gives up substantial power."
   ]
  },
  {
   "cell_type": "code",
   "execution_count": 72,
   "metadata": {},
   "outputs": [
    {
     "name": "stderr",
     "output_type": "stream",
     "text": [
      "14676561it [00:24, 602041.90it/s]\n"
     ]
    }
   ],
   "source": [
    "lineage_match = 0\n",
    "lineage_mismatch = 0\n",
    "with open(dists_file, 'r') as infile:\n",
    "    for line in tqdm.tqdm(infile):\n",
    "        (sample1, sample2, distance) = line.split()\n",
    "        if sample1 == sample2:\n",
    "            continue\n",
    "        distance = int(distance)\n",
    "        if sample1 not in date_lookup or sample2 not in date_lookup:\n",
    "            continue\n",
    "        if abs(date_lookup[sample1] - date_lookup[sample2]) > 14:\n",
    "            continue\n",
    "        lin1 = sample_to_lin[sample1]\n",
    "        lin2 = sample_to_lin[sample2]\n",
    "        if lin1 == lin2:\n",
    "            lineage_match += 1\n",
    "        else:\n",
    "            lineage_mismatch += 1"
   ]
  },
  {
   "cell_type": "code",
   "execution_count": 73,
   "metadata": {},
   "outputs": [
    {
     "data": {
      "text/plain": [
       "36.67"
      ]
     },
     "execution_count": 73,
     "metadata": {},
     "output_type": "execute_result"
    }
   ],
   "source": [
    "100 - np.round(lineage_mismatch/(lineage_match + lineage_mismatch)*100,2)"
   ]
  },
  {
   "cell_type": "code",
   "execution_count": 74,
   "metadata": {},
   "outputs": [
    {
     "data": {
      "text/plain": [
       "<matplotlib.lines.Line2D at 0x7f9357d9f640>"
      ]
     },
     "execution_count": 74,
     "metadata": {},
     "output_type": "execute_result"
    },
    {
     "data": {
      "image/png": "[encoded data removed]",
      "text/plain": [
       "<Figure size 432x288 with 1 Axes>"
      ]
     },
     "metadata": {
      "needs_background": "light"
     },
     "output_type": "display_data"
    }
   ],
   "source": [
    "# Within lineage distances\n",
    "plt.hist(lineage_distribution['B.1.617.2'], bins=20)\n",
    "plt.title(\"SNP Distances within B.1.617.2\")\n",
    "plt.axvline(2, color='red')"
   ]
  },
  {
   "cell_type": "code",
   "execution_count": 75,
   "metadata": {},
   "outputs": [
    {
     "data": {
      "text/plain": [
       "<matplotlib.lines.Line2D at 0x7f935796b730>"
      ]
     },
     "execution_count": 75,
     "metadata": {},
     "output_type": "execute_result"
    },
    {
     "data": {
      "image/png": "[encoded data removed]",
      "text/plain": [
       "<Figure size 432x288 with 1 Axes>"
      ]
     },
     "metadata": {
      "needs_background": "light"
     },
     "output_type": "display_data"
    }
   ],
   "source": [
    "plt.hist(lineage_distribution['P.1'], bins=20)\n",
    "plt.title(\"SNP Distances within P.1\")\n",
    "plt.axvline(2, color='red')"
   ]
  },
  {
   "cell_type": "code",
   "execution_count": 23,
   "metadata": {},
   "outputs": [
    {
     "data": {
      "text/plain": [
       "<matplotlib.lines.Line2D at 0x7ff6a0798630>"
      ]
     },
     "execution_count": 23,
     "metadata": {},
     "output_type": "execute_result"
    },
    {
     "data": {
      "image/png": "[encoded data removed]",
      "text/plain": [
       "<Figure size 432x288 with 1 Axes>"
      ]
     },
     "metadata": {
      "needs_background": "light"
     },
     "output_type": "display_data"
    }
   ],
   "source": [
    "# Within lineage distances\n",
    "plt.hist(lineage_distribution['B.1.621'], bins=20)\n",
    "plt.title(\"SNP Distances within B.1.621\")\n",
    "plt.axvline(2, color='red')"
   ]
  },
  {
   "cell_type": "code",
   "execution_count": 24,
   "metadata": {},
   "outputs": [
    {
     "data": {
      "text/plain": [
       "(array([1.47600e+04, 4.54100e+04, 5.91420e+04, 1.25754e+05, 1.45540e+05,\n",
       "        3.43344e+05, 2.11290e+05, 1.67816e+05, 3.80640e+04, 1.92040e+04,\n",
       "        1.33240e+04, 2.47120e+04, 9.47840e+04, 8.19640e+04, 8.46780e+04,\n",
       "        2.41180e+04, 1.14140e+04, 1.58600e+03, 3.80000e+02, 2.40000e+01]),\n",
       " array([ 0.  ,  2.55,  5.1 ,  7.65, 10.2 , 12.75, 15.3 , 17.85, 20.4 ,\n",
       "        22.95, 25.5 , 28.05, 30.6 , 33.15, 35.7 , 38.25, 40.8 , 43.35,\n",
       "        45.9 , 48.45, 51.  ]),\n",
       " <a list of 20 Patch objects>)"
      ]
     },
     "execution_count": 24,
     "metadata": {},
     "output_type": "execute_result"
    },
    {
     "data": {
      "image/png": "[encoded data removed]",
      "text/plain": [
       "<Figure size 432x288 with 1 Axes>"
      ]
     },
     "metadata": {
      "needs_background": "light"
     },
     "output_type": "display_data"
    }
   ],
   "source": [
    "plt.hist(lineage_distribution['B.1.617.2'], bins=20)"
   ]
  },
  {
   "cell_type": "markdown",
   "metadata": {},
   "source": [
    "## Rule-in?"
   ]
  },
  {
   "cell_type": "markdown",
   "metadata": {},
   "source": [
    "How reliable is genetic confirmation of an epi link?\n",
    "\n",
    "We can think of this in a Bayesian way:\n",
    "\n",
    "$$P(\\textrm{transmission}| \\textrm{epi}, \\textrm{genomics}) = \\frac{P(\\textrm{genomics}| \\textrm{epi}, \\textrm{transmission})*P(\\textrm{transmission} | \\textrm{epi})}{P(\\textrm{genomics}|\\textrm{epi})}.$$\n",
    "\n",
    "The probability of seeing a genomic link (<= 2 SNPs) given transmission is very high, say 99% (the 1% accounts for a burst of mutations, as in a long latent infection, or sample mixups in the sequencing lab).\n",
    "\n",
    "The prior probability of seeing transmission given the epi link alone, $P(\\textrm{transmission} | \\textrm{epi})$ depends on the circumstance, but might reasonably range from 1% (same school but no shared classes) to 90% (same household).\n",
    "\n",
    "The denominator is a sum of two terms: the probability of seeing a genomic link given transmission, weighted by the prior probability of transmission given the epi data, plus the probability of seeing a genomic link given no transmission, weighted by the prior probability of no transmission given the epi data.\n",
    "\n",
    "$$P(\\textrm{genomics}|\\textrm{epi}) = P(\\textrm{genomics}| \\textrm{epi}, \\textrm{transmission})*P(\\textrm{transmission} | \\textrm{epi}) \\\\+ P(\\textrm{genomics}| \\textrm{epi}, \\textrm{no transmission})*P(\\textrm{no transmission} | \\textrm{epi})$$\n",
    "\n",
    "The key variable that we approximated above is $P(\\textrm{genomics}| \\textrm{epi}, \\textrm{no transmission})$, the probability of seeing a genomic link given the epi circumstance *if transmission did not take place*. That is a measure of the genomic diversity of the community from which these individuals were drawn. We estimated this to be 0.5% in San Diego at this time, but if a smaller community is considered (eg, a neighborhood, or a socio-economic/demographic group), then data from within that community should be used.\n",
    "\n",
    "If we say that the probability of a genomic link given no transmission were 2% (accounting for a smaller community with less genomic diversity), then we would have:\n",
    "\n",
    "$$P(\\textrm{transmission}| \\textrm{epi}, \\textrm{genomics}) = \\frac{0.99*p}{0.99*p + 0.02*(1-p)},$$\n",
    "\n",
    "where $p$ was the prior probability of transmission given the epi evidence alone."
   ]
  },
  {
   "cell_type": "code",
   "execution_count": 25,
   "metadata": {},
   "outputs": [],
   "source": [
    "def posterior_probability(prior, background=0.02, sequencing_accuracy=0.99):\n",
    "    return sequencing_accuracy*prior/(sequencing_accuracy*prior + background*(1-prior))"
   ]
  },
  {
   "cell_type": "markdown",
   "metadata": {},
   "source": [
    "If the epi evidence were reasonably strong, say, p = 75% (say, in the case of household transmission), the genomics would boost it to 99.3%."
   ]
  },
  {
   "cell_type": "code",
   "execution_count": 26,
   "metadata": {},
   "outputs": [
    {
     "data": {
      "text/plain": [
       "0.9933110367892977"
      ]
     },
     "execution_count": 26,
     "metadata": {},
     "output_type": "execute_result"
    }
   ],
   "source": [
    "posterior_probability(0.75)"
   ]
  },
  {
   "cell_type": "markdown",
   "metadata": {},
   "source": [
    "If the epi evidence were very weak, say, p = 0.1% (say, if the two cases are just in the same neighborhood), then genomics would boost it to 4.7%."
   ]
  },
  {
   "cell_type": "code",
   "execution_count": 27,
   "metadata": {},
   "outputs": [
    {
     "data": {
      "text/plain": [
       "0.047210300429184546"
      ]
     },
     "execution_count": 27,
     "metadata": {},
     "output_type": "execute_result"
    }
   ],
   "source": [
    "posterior_probability(0.001)"
   ]
  }
 ],
 "metadata": {
  "kernelspec": {
   "display_name": "Python 3 (ipykernel)",
   "language": "python",
   "name": "python3"
  },
  "language_info": {
   "codemirror_mode": {
    "name": "ipython",
    "version": 3
   },
   "file_extension": ".py",
   "mimetype": "text/x-python",
   "name": "python",
   "nbconvert_exporter": "python",
   "pygments_lexer": "ipython3",
   "version": "3.9.7"
  }
 },
 "nbformat": 4,
 "nbformat_minor": 4
}
